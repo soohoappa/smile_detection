{
 "cells": [
  {
   "cell_type": "code",
   "execution_count": 25,
   "metadata": {},
   "outputs": [],
   "source": [
    "from sklearn.preprocessing import LabelEncoder\n",
    "from sklearn.model_selection import train_test_split\n",
    "from sklearn.metrics import classification_report\n",
    "from tensorflow.keras.preprocessing.image import img_to_array\n",
    "from tensorflow.keras.utils import to_categorical\n",
    "from imutils import paths\n",
    "import matplotlib.pyplot as plt\n",
    "import numpy as np\n",
    "import imutils\n",
    "import cv2\n",
    "import os\n",
    "\n",
    "from tensorflow.keras.models import Sequential\n",
    "from tensorflow.keras.layers import Conv2D, MaxPooling2D, Activation, Flatten, Dense\n",
    "from tensorflow.keras import backend as K"
   ]
  },
  {
   "cell_type": "code",
   "execution_count": 5,
   "metadata": {},
   "outputs": [],
   "source": [
    "# import the necessary packages\n",
    "\n",
    "def LeNet(width, height, depth, classes):\n",
    "        # initialize the model\n",
    "        model = Sequential()\n",
    "        inputShape = (height, width, depth)\n",
    "\n",
    "        # if we are using \"channels first\", update the input shape\n",
    "        if K.image_data_format() == \"channels_first\":\n",
    "            inputShape = (depth, height, width)\n",
    "\n",
    "        # first set of CONV => RELU => POOL layers\n",
    "        model.add(Conv2D(20, (5, 5), padding=\"same\", input_shape=inputShape))\n",
    "        model.add(Activation(\"relu\"))\n",
    "        model.add(MaxPooling2D(pool_size=(2, 2), strides=(2, 2)))\n",
    "\n",
    "        # second set of CONV => RELU => POOL layers\n",
    "        model.add(Conv2D(50, (5, 5), padding=\"same\"))\n",
    "        model.add(Activation(\"relu\"))\n",
    "        model.add(MaxPooling2D(pool_size=(2, 2), strides=(2, 2)))\n",
    "\n",
    "        # first (and only) set of FC => RELU layers\n",
    "        model.add(Flatten())\n",
    "        model.add(Dense(500))\n",
    "        model.add(Activation(\"relu\"))\n",
    "\n",
    "        # softmax classifier\n",
    "        model.add(Dense(classes))\n",
    "        model.add(Activation(\"softmax\"))\n",
    "    \n",
    "        # return the constructed network architecture\n",
    "        return model"
   ]
  },
  {
   "cell_type": "code",
   "execution_count": 261,
   "metadata": {},
   "outputs": [],
   "source": [
    "data = []\n",
    "labels = []\n",
    "\n",
    "for imagePath in sorted(list(paths.list_images(\"smiles\"))):\n",
    "    image = cv2.imread(imagePath)\n",
    "    image = cv2.cvtColor(image, cv2.COLOR_BGR2GRAY)\n",
    "    image = imutils.resize(image, width=28)\n",
    "    image = img_to_array(image)\n",
    "    data.append(image)\n",
    "    \n",
    "    label = imagePath.split(os.path.sep)[-3]\n",
    "    label = \"smiling\" if label == \"positives\" else \"not_smiling\"\n",
    "    labels.append(label)"
   ]
  },
  {
   "cell_type": "code",
   "execution_count": 262,
   "metadata": {},
   "outputs": [],
   "source": [
    "data = np.array(data, dtype='float')/255.0\n",
    "labels = np.array(labels)\n",
    "\n",
    "le = LabelEncoder()\n",
    "labels = le.fit_transform(labels)"
   ]
  },
  {
   "cell_type": "code",
   "execution_count": 263,
   "metadata": {},
   "outputs": [],
   "source": [
    "from sklearn.utils import class_weight\n",
    "weights = class_weight.compute_class_weight('balanced', np.unique(labels, axis=0), labels)\n",
    "weights = {i : weights[i] for i in range(2)}\n",
    "\n",
    "min_ = min(weights[0], weights[1])\n",
    "\n",
    "for i in range(len(weights)):\n",
    "    weights[i] = weights[i]/min_"
   ]
  },
  {
   "cell_type": "code",
   "execution_count": 264,
   "metadata": {},
   "outputs": [],
   "source": [
    "labels = to_categorical(labels, 2)"
   ]
  },
  {
   "cell_type": "code",
   "execution_count": 265,
   "metadata": {},
   "outputs": [],
   "source": [
    "# classTotals = labels.sum(axis=0)\n",
    "# classWeight = classTotals.max() / classTotals"
   ]
  },
  {
   "cell_type": "code",
   "execution_count": 266,
   "metadata": {},
   "outputs": [],
   "source": [
    "X_train, X_test, y_train, y_test = train_test_split(data, labels, test_size=0.2, stratify=labels, random_state=42)"
   ]
  },
  {
   "cell_type": "code",
   "execution_count": 267,
   "metadata": {},
   "outputs": [],
   "source": [
    "model = LeNet(width=28, height=28, depth=1, classes=2)\n",
    "model.compile(loss='binary_crossentropy', optimizer='adam', metrics=['accuracy'])"
   ]
  },
  {
   "cell_type": "code",
   "execution_count": 269,
   "metadata": {},
   "outputs": [
    {
     "name": "stdout",
     "output_type": "stream",
     "text": [
      "Epoch 1/15\n",
      "165/165 [==============================] - 4s 20ms/step - loss: 0.8845 - accuracy: 0.6311 - val_loss: 0.3260 - val_accuracy: 0.8618\n",
      "Epoch 2/15\n",
      "165/165 [==============================] - 3s 21ms/step - loss: 0.5074 - accuracy: 0.8478 - val_loss: 0.4211 - val_accuracy: 0.8147\n",
      "Epoch 3/15\n",
      "165/165 [==============================] - 3s 19ms/step - loss: 0.4370 - accuracy: 0.8719 - val_loss: 0.2716 - val_accuracy: 0.8959\n",
      "Epoch 4/15\n",
      "165/165 [==============================] - 3s 20ms/step - loss: 0.3998 - accuracy: 0.8872 - val_loss: 0.3025 - val_accuracy: 0.8743\n",
      "Epoch 5/15\n",
      "165/165 [==============================] - 3s 20ms/step - loss: 0.3886 - accuracy: 0.8962 - val_loss: 0.2657 - val_accuracy: 0.8906\n",
      "Epoch 6/15\n",
      "165/165 [==============================] - 3s 20ms/step - loss: 0.3720 - accuracy: 0.9008 - val_loss: 0.3440 - val_accuracy: 0.8485\n",
      "Epoch 7/15\n",
      "165/165 [==============================] - 3s 20ms/step - loss: 0.3516 - accuracy: 0.8991 - val_loss: 0.3001 - val_accuracy: 0.8705\n",
      "Epoch 8/15\n",
      "165/165 [==============================] - 3s 20ms/step - loss: 0.3452 - accuracy: 0.9056 - val_loss: 0.2885 - val_accuracy: 0.8804\n",
      "Epoch 9/15\n",
      "165/165 [==============================] - 3s 19ms/step - loss: 0.3239 - accuracy: 0.9131 - val_loss: 0.2519 - val_accuracy: 0.8990\n",
      "Epoch 10/15\n",
      "165/165 [==============================] - 3s 20ms/step - loss: 0.3054 - accuracy: 0.9198 - val_loss: 0.2576 - val_accuracy: 0.9016\n",
      "Epoch 11/15\n",
      "165/165 [==============================] - 3s 20ms/step - loss: 0.2808 - accuracy: 0.9253 - val_loss: 0.2898 - val_accuracy: 0.8781\n",
      "Epoch 12/15\n",
      "165/165 [==============================] - 3s 20ms/step - loss: 0.2905 - accuracy: 0.9221 - val_loss: 0.2438 - val_accuracy: 0.9058\n",
      "Epoch 13/15\n",
      "165/165 [==============================] - 3s 19ms/step - loss: 0.2880 - accuracy: 0.9209 - val_loss: 0.2354 - val_accuracy: 0.9092\n",
      "Epoch 14/15\n",
      "165/165 [==============================] - 3s 20ms/step - loss: 0.2662 - accuracy: 0.9305 - val_loss: 0.2325 - val_accuracy: 0.9138\n",
      "Epoch 15/15\n",
      "165/165 [==============================] - 3s 20ms/step - loss: 0.2549 - accuracy: 0.9288 - val_loss: 0.2278 - val_accuracy: 0.9134\n"
     ]
    }
   ],
   "source": [
    "H = model.fit(X_train, y_train, validation_data=(X_test, y_test), class_weight=weights, batch_size=64, epochs=15, verbose=1)"
   ]
  },
  {
   "cell_type": "code",
   "execution_count": 270,
   "metadata": {},
   "outputs": [
    {
     "name": "stdout",
     "output_type": "stream",
     "text": [
      "              precision    recall  f1-score   support\n",
      "\n",
      " not_smiling       0.95      0.93      0.94      1895\n",
      "     smiling       0.82      0.88      0.85       738\n",
      "\n",
      "    accuracy                           0.91      2633\n",
      "   macro avg       0.89      0.90      0.89      2633\n",
      "weighted avg       0.92      0.91      0.91      2633\n",
      "\n"
     ]
    }
   ],
   "source": [
    "predictions = model.predict(X_test, batch_size=64)\n",
    "print(classification_report(y_test.argmax(axis=1), predictions.argmax(axis=1), target_names=le.classes_))\n",
    "# save the model to disk\n",
    "\n",
    "model.save(\"face_detection.hdf5\")"
   ]
  },
  {
   "cell_type": "code",
   "execution_count": 271,
   "metadata": {},
   "outputs": [
    {
     "data": {
      "image/png": "[encoded data removed]",
      "text/plain": [
       "<Figure size 432x288 with 1 Axes>"
      ]
     },
     "metadata": {},
     "output_type": "display_data"
    }
   ],
   "source": [
    "plt.style.use(\"ggplot\")\n",
    "plt.figure()\n",
    "plt.plot(np.arange(0, 15), H.history[\"loss\"], label=\"train_loss\")\n",
    "plt.plot(np.arange(0, 15), H.history[\"val_loss\"], label=\"val_loss\")\n",
    "plt.plot(np.arange(0, 15), H.history[\"accuracy\"], label=\"acc\")\n",
    "plt.plot(np.arange(0, 15), H.history[\"val_accuracy\"], label=\"val_acc\")\n",
    "plt.title(\"Training Loss and Accuracy\")\n",
    "plt.xlabel(\"Epoch #\")\n",
    "plt.ylabel(\"Loss/Accuracy\")\n",
    "plt.legend()\n",
    "plt.show()"
   ]
  }
 ],
 "metadata": {
  "kernelspec": {
   "display_name": "Python 3",
   "language": "python",
   "name": "python3"
  },
  "language_info": {
   "codemirror_mode": {
    "name": "ipython",
    "version": 3
   },
   "file_extension": ".py",
   "mimetype": "text/x-python",
   "name": "python",
   "nbconvert_exporter": "python",
   "pygments_lexer": "ipython3",
   "version": "3.8.5"
  }
 },
 "nbformat": 4,
 "nbformat_minor": 4
}
